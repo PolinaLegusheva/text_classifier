{
 "cells": [
  {
   "cell_type": "code",
   "execution_count": 1,
   "id": "14953b2c-5bdb-4ab5-bb1f-ed4fb69af067",
   "metadata": {},
   "outputs": [],
   "source": [
    "import tensorflow as tf\n",
    "from sklearn.model_selection import train_test_split\n",
    "import pandas as pd\n",
    "import numpy as np\n",
    "import matplotlib.pyplot as plt\n",
    "from sklearn.preprocessing import LabelEncoder\n",
    "from sklearn.model_selection import train_test_split\n",
    "from tensorflow.keras.preprocessing.text import Tokenizer\n",
    "from tensorflow.keras.preprocessing.sequence import pad_sequences\n",
    "from tensorflow.keras.models import Sequential\n",
    "from tensorflow.keras.layers import Embedding, LSTM, Dense, Dropout, Bidirectional"
   ]
  },
  {
   "cell_type": "code",
   "execution_count": 2,
   "id": "8e0b5734-875d-41a4-8841-062da5e2b3e9",
   "metadata": {},
   "outputs": [],
   "source": [
    "train = pd.read_csv('/home/pl/Documents/text_classifier/train.csv')\n",
    "test = pd.read_csv('/home/pl/Documents/text_classifier/test.csv')"
   ]
  },
  {
   "cell_type": "code",
   "execution_count": 3,
   "id": "b257df9e-c222-476f-b3d9-0c3e5a1ac2ac",
   "metadata": {},
   "outputs": [
    {
     "name": "stdout",
     "output_type": "stream",
     "text": [
      "Сумма пропусков в train: 0\n",
      "Сумма пропусков в test: 0\n"
     ]
    }
   ],
   "source": [
    "print(\"Сумма пропусков в train:\", train.isna().sum().sum())\n",
    "print(\"Сумма пропусков в test:\", test.isna().sum().sum())"
   ]
  },
  {
   "cell_type": "code",
   "execution_count": 4,
   "id": "88f33344-0398-4a05-ac21-137665eacb13",
   "metadata": {},
   "outputs": [
    {
     "data": {
      "text/html": [
       "<div>\n",
       "<style scoped>\n",
       "    .dataframe tbody tr th:only-of-type {\n",
       "        vertical-align: middle;\n",
       "    }\n",
       "\n",
       "    .dataframe tbody tr th {\n",
       "        vertical-align: top;\n",
       "    }\n",
       "\n",
       "    .dataframe thead th {\n",
       "        text-align: right;\n",
       "    }\n",
       "</style>\n",
       "<table border=\"1\" class=\"dataframe\">\n",
       "  <thead>\n",
       "    <tr style=\"text-align: right;\">\n",
       "      <th></th>\n",
       "      <th>Text</th>\n",
       "      <th>Label</th>\n",
       "    </tr>\n",
       "  </thead>\n",
       "  <tbody>\n",
       "    <tr>\n",
       "      <th>0</th>\n",
       "      <td>immer min maa mit em vatter vergliche de</td>\n",
       "      <td>ZH</td>\n",
       "    </tr>\n",
       "    <tr>\n",
       "      <th>1</th>\n",
       "      <td>das mues ich säge aber mir hend</td>\n",
       "      <td>LU</td>\n",
       "    </tr>\n",
       "    <tr>\n",
       "      <th>2</th>\n",
       "      <td>därartigi het natürlig ineren organisazion gän...</td>\n",
       "      <td>BS</td>\n",
       "    </tr>\n",
       "    <tr>\n",
       "      <th>3</th>\n",
       "      <td>schtei und bei gfroore e moondschiinnacht</td>\n",
       "      <td>BE</td>\n",
       "    </tr>\n",
       "    <tr>\n",
       "      <th>4</th>\n",
       "      <td>deet si jä</td>\n",
       "      <td>BS</td>\n",
       "    </tr>\n",
       "  </tbody>\n",
       "</table>\n",
       "</div>"
      ],
      "text/plain": [
       "                                                Text Label\n",
       "0           immer min maa mit em vatter vergliche de    ZH\n",
       "1                    das mues ich säge aber mir hend    LU\n",
       "2  därartigi het natürlig ineren organisazion gän...    BS\n",
       "3          schtei und bei gfroore e moondschiinnacht    BE\n",
       "4                                         deet si jä    BS"
      ]
     },
     "execution_count": 4,
     "metadata": {},
     "output_type": "execute_result"
    }
   ],
   "source": [
    "pd.set_option('display.max_columns', None)\n",
    "train.head(5)"
   ]
  },
  {
   "cell_type": "code",
   "execution_count": 5,
   "id": "9f751b5f-5608-4f8c-8e13-a9ad74b9e594",
   "metadata": {},
   "outputs": [
    {
     "data": {
      "text/html": [
       "<div>\n",
       "<style scoped>\n",
       "    .dataframe tbody tr th:only-of-type {\n",
       "        vertical-align: middle;\n",
       "    }\n",
       "\n",
       "    .dataframe tbody tr th {\n",
       "        vertical-align: top;\n",
       "    }\n",
       "\n",
       "    .dataframe thead th {\n",
       "        text-align: right;\n",
       "    }\n",
       "</style>\n",
       "<table border=\"1\" class=\"dataframe\">\n",
       "  <thead>\n",
       "    <tr style=\"text-align: right;\">\n",
       "      <th></th>\n",
       "      <th>Id</th>\n",
       "      <th>Text</th>\n",
       "    </tr>\n",
       "  </thead>\n",
       "  <tbody>\n",
       "    <tr>\n",
       "      <th>0</th>\n",
       "      <td>1</td>\n",
       "      <td>und dää isch eppen emal schoo wos wo kä chrieg...</td>\n",
       "    </tr>\n",
       "    <tr>\n",
       "      <th>1</th>\n",
       "      <td>2</td>\n",
       "      <td>natüürli fascht graatis ghaa</td>\n",
       "    </tr>\n",
       "    <tr>\n",
       "      <th>2</th>\n",
       "      <td>3</td>\n",
       "      <td>ùnd deet sìnd de die läbesmittelcharte usggää ...</td>\n",
       "    </tr>\n",
       "    <tr>\n",
       "      <th>3</th>\n",
       "      <td>4</td>\n",
       "      <td>die ärztin he wo dreimol s exame hed möse mach...</td>\n",
       "    </tr>\n",
       "    <tr>\n",
       "      <th>4</th>\n",
       "      <td>5</td>\n",
       "      <td>das isch aber nur e täilziitschtell gsii vilic...</td>\n",
       "    </tr>\n",
       "  </tbody>\n",
       "</table>\n",
       "</div>"
      ],
      "text/plain": [
       "   Id                                               Text\n",
       "0   1  und dää isch eppen emal schoo wos wo kä chrieg...\n",
       "1   2                       natüürli fascht graatis ghaa\n",
       "2   3  ùnd deet sìnd de die läbesmittelcharte usggää ...\n",
       "3   4  die ärztin he wo dreimol s exame hed möse mach...\n",
       "4   5  das isch aber nur e täilziitschtell gsii vilic..."
      ]
     },
     "execution_count": 5,
     "metadata": {},
     "output_type": "execute_result"
    }
   ],
   "source": [
    "test.head(5)"
   ]
  },
  {
   "cell_type": "code",
   "execution_count": 22,
   "id": "c62d701d-67b0-4a05-8cd6-4293c84edb57",
   "metadata": {},
   "outputs": [
    {
     "data": {
      "text/plain": [
       "array(['ZH', 'LU', 'BS', 'BE'], dtype=object)"
      ]
     },
     "execution_count": 22,
     "metadata": {},
     "output_type": "execute_result"
    }
   ],
   "source": [
    "train['Label'].unique ()"
   ]
  },
  {
   "cell_type": "code",
   "execution_count": 6,
   "id": "57aeba70-8961-496e-b352-fe033e3a4442",
   "metadata": {},
   "outputs": [],
   "source": [
    "X_train = train['Text']\n",
    "y_train = train['Label']\n",
    "X_test = test[' Text']"
   ]
  },
  {
   "cell_type": "code",
   "execution_count": 7,
   "id": "e8550108-347f-48ff-8623-91b5f6cf16c3",
   "metadata": {},
   "outputs": [],
   "source": [
    "label_encoder = LabelEncoder()\n",
    "y_train_encoded = label_encoder.fit_transform(y_train)"
   ]
  },
  {
   "cell_type": "code",
   "execution_count": 8,
   "id": "74ae391a-00df-4613-8b05-5d7e1f8e524b",
   "metadata": {},
   "outputs": [],
   "source": [
    "X_train, X_val, y_train_encoded, y_val_encoded = train_test_split(X_train, y_train_encoded, test_size=0.2, random_state=42)"
   ]
  },
  {
   "cell_type": "code",
   "execution_count": 9,
   "id": "9930e246-d996-4e1c-a1b9-34a00d9e1a06",
   "metadata": {
    "jupyter": {
     "source_hidden": true
    },
    "tags": []
   },
   "outputs": [],
   "source": [
    "tokenizer = Tokenizer()\n",
    "tokenizer.fit_on_texts(X_train)\n",
    "X_train_seq = tokenizer.texts_to_sequences(X_train)\n",
    "X_val_seq = tokenizer.texts_to_sequences(X_val)\n",
    "X_test_seq = tokenizer.texts_to_sequences(X_test)"
   ]
  },
  {
   "cell_type": "code",
   "execution_count": 10,
   "id": "76692fc9-927d-4145-94ae-426624b3e054",
   "metadata": {},
   "outputs": [],
   "source": [
    "max_length = 100\n",
    "X_train_padded = pad_sequences(X_train_seq, maxlen=max_length, padding='post')\n",
    "X_val_padded = pad_sequences(X_val_seq, maxlen=max_length, padding='post')\n",
    "X_test_padded = pad_sequences(X_test_seq, maxlen=max_length, padding='post')"
   ]
  },
  {
   "cell_type": "code",
   "execution_count": 11,
   "id": "85f0b3ca-98a7-4dc5-bf17-46f8cd39159b",
   "metadata": {},
   "outputs": [],
   "source": [
    "embedding_dim = 300\n",
    "vocab_size = len(tokenizer.word_index) + 1"
   ]
  },
  {
   "cell_type": "code",
   "execution_count": 12,
   "id": "2f9e343a-89d1-4a87-98e2-fcc23dc27ed5",
   "metadata": {},
   "outputs": [
    {
     "name": "stderr",
     "output_type": "stream",
     "text": [
      "2024-01-18 16:06:41.606769: E tensorflow/stream_executor/cuda/cuda_driver.cc:271] failed call to cuInit: CUDA_ERROR_NO_DEVICE: no CUDA-capable device is detected\n",
      "2024-01-18 16:06:41.606813: I tensorflow/stream_executor/cuda/cuda_diagnostics.cc:156] kernel driver does not appear to be running on this host (pl): /proc/driver/nvidia/version does not exist\n",
      "2024-01-18 16:06:41.607692: I tensorflow/core/platform/cpu_feature_guard.cc:193] This TensorFlow binary is optimized with oneAPI Deep Neural Network Library (oneDNN) to use the following CPU instructions in performance-critical operations:  AVX2 FMA\n",
      "To enable them in other operations, rebuild TensorFlow with the appropriate compiler flags.\n"
     ]
    }
   ],
   "source": [
    "model = Sequential()\n",
    "model.add(Embedding(input_dim=vocab_size, output_dim=embedding_dim, input_length=max_length))\n",
    "model.add(Bidirectional(LSTM(units=100, return_sequences=True)))\n",
    "model.add(Dropout(0.5))\n",
    "model.add(Bidirectional(LSTM(units=100, return_sequences=True)))\n",
    "model.add(Dropout(0.5))\n",
    "model.add(Bidirectional(LSTM(units=100)))\n",
    "model.add(Dropout(0.5))\n",
    "model.add(Dense(units=64, activation='relu'))\n",
    "model.add(Dense(units=len(label_encoder.classes_), activation='softmax'))"
   ]
  },
  {
   "cell_type": "code",
   "execution_count": 13,
   "id": "46ffb9d4-00be-46a3-8d5b-98de6483b799",
   "metadata": {},
   "outputs": [],
   "source": [
    "model.compile(optimizer='adam', loss='sparse_categorical_crossentropy', metrics=['accuracy'])\n"
   ]
  },
  {
   "cell_type": "code",
   "execution_count": 14,
   "id": "7abc0fb3-07e2-4855-9b02-ad08407c115f",
   "metadata": {},
   "outputs": [
    {
     "name": "stdout",
     "output_type": "stream",
     "text": [
      "Epoch 1/20\n",
      "391/391 [==============================] - 119s 286ms/step - loss: 0.8426 - accuracy: 0.6411 - val_loss: 0.5632 - val_accuracy: 0.7859\n",
      "Epoch 2/20\n",
      "391/391 [==============================] - 112s 286ms/step - loss: 0.3285 - accuracy: 0.8866 - val_loss: 0.5319 - val_accuracy: 0.8067\n",
      "Epoch 3/20\n",
      "391/391 [==============================] - 119s 305ms/step - loss: 0.1644 - accuracy: 0.9462 - val_loss: 0.6343 - val_accuracy: 0.8076\n",
      "Epoch 4/20\n",
      "391/391 [==============================] - 112s 287ms/step - loss: 0.1139 - accuracy: 0.9637 - val_loss: 0.6851 - val_accuracy: 0.8019\n",
      "Epoch 5/20\n",
      "391/391 [==============================] - 110s 282ms/step - loss: 0.0930 - accuracy: 0.9702 - val_loss: 0.6745 - val_accuracy: 0.8054\n",
      "Epoch 6/20\n",
      "391/391 [==============================] - 113s 288ms/step - loss: 0.0744 - accuracy: 0.9755 - val_loss: 0.8029 - val_accuracy: 0.7865\n",
      "Epoch 7/20\n",
      "391/391 [==============================] - 118s 301ms/step - loss: 0.0782 - accuracy: 0.9739 - val_loss: 0.8807 - val_accuracy: 0.7887\n",
      "Epoch 8/20\n",
      "391/391 [==============================] - 110s 281ms/step - loss: 0.0608 - accuracy: 0.9797 - val_loss: 0.9554 - val_accuracy: 0.7900\n",
      "Epoch 9/20\n",
      "391/391 [==============================] - 115s 294ms/step - loss: 0.0609 - accuracy: 0.9795 - val_loss: 0.8990 - val_accuracy: 0.7839\n",
      "Epoch 10/20\n",
      "391/391 [==============================] - 118s 301ms/step - loss: 0.0513 - accuracy: 0.9825 - val_loss: 0.9668 - val_accuracy: 0.7871\n",
      "Epoch 11/20\n",
      "391/391 [==============================] - 129s 330ms/step - loss: 0.0505 - accuracy: 0.9832 - val_loss: 0.9736 - val_accuracy: 0.7843\n",
      "Epoch 12/20\n",
      "391/391 [==============================] - 134s 344ms/step - loss: 0.0427 - accuracy: 0.9854 - val_loss: 1.0471 - val_accuracy: 0.7855\n",
      "Epoch 13/20\n",
      "391/391 [==============================] - 124s 318ms/step - loss: 0.0375 - accuracy: 0.9870 - val_loss: 1.0067 - val_accuracy: 0.7782\n",
      "Epoch 14/20\n",
      "391/391 [==============================] - 124s 317ms/step - loss: 0.0344 - accuracy: 0.9877 - val_loss: 1.1221 - val_accuracy: 0.7817\n",
      "Epoch 15/20\n",
      "391/391 [==============================] - 120s 308ms/step - loss: 0.0347 - accuracy: 0.9888 - val_loss: 1.2840 - val_accuracy: 0.7746\n",
      "Epoch 16/20\n",
      "391/391 [==============================] - 113s 289ms/step - loss: 0.0385 - accuracy: 0.9870 - val_loss: 1.1789 - val_accuracy: 0.7810\n",
      "Epoch 17/20\n",
      "391/391 [==============================] - 111s 284ms/step - loss: 0.0323 - accuracy: 0.9890 - val_loss: 1.1265 - val_accuracy: 0.7772\n",
      "Epoch 18/20\n",
      "391/391 [==============================] - 123s 314ms/step - loss: 0.0327 - accuracy: 0.9890 - val_loss: 1.3173 - val_accuracy: 0.7734\n",
      "Epoch 19/20\n",
      "391/391 [==============================] - 118s 302ms/step - loss: 0.0310 - accuracy: 0.9906 - val_loss: 1.3505 - val_accuracy: 0.7721\n",
      "Epoch 20/20\n",
      "391/391 [==============================] - 117s 300ms/step - loss: 0.0324 - accuracy: 0.9888 - val_loss: 1.2772 - val_accuracy: 0.7730\n"
     ]
    }
   ],
   "source": [
    "history = model.fit(X_train_padded, y_train_encoded, epochs=20, batch_size=32, validation_data=(X_val_padded, y_val_encoded))"
   ]
  },
  {
   "cell_type": "code",
   "execution_count": 15,
   "id": "8946aa2f-93c4-4c86-8844-0ecbefb1e000",
   "metadata": {},
   "outputs": [
    {
     "name": "stdout",
     "output_type": "stream",
     "text": [
      "79/79 [==============================] - 7s 68ms/step\n"
     ]
    }
   ],
   "source": [
    "y_test_pred = model.predict(X_test_padded)"
   ]
  },
  {
   "cell_type": "code",
   "execution_count": 16,
   "id": "c3056e3b-0deb-4cc1-bab9-cc02d05a6349",
   "metadata": {},
   "outputs": [],
   "source": [
    "y_test_pred_decoded = label_encoder.inverse_transform(y_test_pred.argmax(axis=1))"
   ]
  },
  {
   "cell_type": "code",
   "execution_count": 17,
   "id": "c259a02b-c048-4b3f-967c-73ba82842ab8",
   "metadata": {},
   "outputs": [
    {
     "data": {
      "image/png": "[encoded data removed]",
      "text/plain": [
       "<Figure size 864x432 with 2 Axes>"
      ]
     },
     "metadata": {
      "needs_background": "light"
     },
     "output_type": "display_data"
    }
   ],
   "source": [
    "plt.figure(figsize=(12, 6))\n",
    "plt.subplot(1, 2, 1)\n",
    "plt.plot(history.history['loss'], label='Training Loss')\n",
    "plt.plot(history.history['val_loss'], label='Validation Loss')\n",
    "plt.title('Training and Validation Loss')\n",
    "plt.xlabel('Epochs')\n",
    "plt.ylabel('Loss')\n",
    "plt.legend()\n",
    "\n",
    "# График точности\n",
    "plt.subplot(1, 2, 2)\n",
    "plt.plot(history.history['accuracy'], label='Training Accuracy')\n",
    "plt.plot(history.history['val_accuracy'], label='Validation Accuracy')\n",
    "plt.title('Training and Validation Accuracy')\n",
    "plt.xlabel('Epochs')\n",
    "plt.ylabel('Accuracy')\n",
    "plt.legend()\n",
    "\n",
    "plt.show()"
   ]
  },
  {
   "cell_type": "code",
   "execution_count": 18,
   "id": "7ca598df-1fb9-4535-83eb-05240496f805",
   "metadata": {},
   "outputs": [
    {
     "name": "stdout",
     "output_type": "stream",
     "text": [
      "98/98 [==============================] - 6s 62ms/step\n",
      "Accuracy: 0.7730473751600512\n",
      "\n",
      "Classification Report:\n",
      "               precision    recall  f1-score   support\n",
      "\n",
      "           0       0.78      0.78      0.78       826\n",
      "           1       0.74      0.75      0.75       724\n",
      "           2       0.75      0.75      0.75       729\n",
      "           3       0.81      0.80      0.81       845\n",
      "\n",
      "    accuracy                           0.77      3124\n",
      "   macro avg       0.77      0.77      0.77      3124\n",
      "weighted avg       0.77      0.77      0.77      3124\n",
      "\n",
      "\n",
      "Confusion Matrix:\n",
      " [[644  56  65  61]\n",
      " [ 57 545  71  51]\n",
      " [ 59  73 547  50]\n",
      " [ 63  60  43 679]]\n"
     ]
    }
   ],
   "source": [
    "from sklearn.metrics import accuracy_score, classification_report, confusion_matrix\n",
    "y_val_pred_prob = model.predict(X_val_padded)\n",
    "y_val_pred = np.argmax(y_val_pred_prob, axis=1)\n",
    "\n",
    "print(\"Accuracy:\", accuracy_score(y_val_encoded, y_val_pred))\n",
    "print(\"\\nClassification Report:\\n\", classification_report(y_val_encoded, y_val_pred))\n",
    "conf_matrix = confusion_matrix(y_val_encoded, y_val_pred)\n",
    "print(\"\\nConfusion Matrix:\\n\", conf_matrix)"
   ]
  },
  {
   "cell_type": "code",
   "execution_count": 23,
   "id": "537efc9f-c301-4532-a21a-afbfac4c5a00",
   "metadata": {},
   "outputs": [
    {
     "data": {
      "image/png": "[encoded data removed]",
      "text/plain": [
       "<Figure size 576x432 with 2 Axes>"
      ]
     },
     "metadata": {
      "needs_background": "light"
     },
     "output_type": "display_data"
    }
   ],
   "source": [
    "import seaborn as sns\n",
    "\n",
    "plt.figure(figsize=(8, 6))\n",
    "sns.heatmap(conf_matrix, annot=True, fmt='d', cmap='Blues', xticklabels=label_encoder.classes_, yticklabels=label_encoder.classes_)\n",
    "plt.title('Confusion Matrix')\n",
    "plt.xlabel('Predicted')\n",
    "plt.ylabel('True')\n",
    "plt.show()"
   ]
  }
 ],
 "metadata": {
  "kernelspec": {
   "display_name": "Python 3 (ipykernel)",
   "language": "python",
   "name": "python3"
  },
  "language_info": {
   "codemirror_mode": {
    "name": "ipython",
    "version": 3
   },
   "file_extension": ".py",
   "mimetype": "text/x-python",
   "name": "python",
   "nbconvert_exporter": "python",
   "pygments_lexer": "ipython3",
   "version": "3.8.10"
  }
 },
 "nbformat": 4,
 "nbformat_minor": 5
}
